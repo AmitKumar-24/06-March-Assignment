{
 "cells": [
  {
   "cell_type": "markdown",
   "id": "9fde142d-13ba-495d-b8a8-65f136f3bb83",
   "metadata": {},
   "source": [
    "## Q1. What is Statistics? "
   ]
  },
  {
   "cell_type": "markdown",
   "id": "39b93bc9-63cf-4f40-ad05-f0b2e5836e3e",
   "metadata": {},
   "source": [
    "Statistics can be defined as the study of the collection, analysis, interpretation, presentation, and organization of data. In simple words, it is a mathematical tool that is used to collect and summarize data.\n",
    "\n",
    "Statistics Examples :\n",
    "\n",
    "To find the mean of the marks obtained by each student in a class of 40 students, the average value is the statistics of the marks obtained.\n",
    "\n",
    "Suppose you need to find the number of employed citizens in a city. If the city has a population of 10 lakh people, we will take a sample of 1000 people. Based on this, we can prepare the data, which is the statistic."
   ]
  },
  {
   "cell_type": "markdown",
   "id": "1509d5a6-2bca-497f-b224-43480bb407b5",
   "metadata": {},
   "source": [
    "## Q2. Define the different types of statistics and give an example of when each type might be used. "
   ]
  },
  {
   "cell_type": "markdown",
   "id": "b205a674-9155-465d-8331-eca4739261ef",
   "metadata": {},
   "source": [
    "The two major areas of statistics are known as descriptive statistics, which describes the properties of sample and population data, and inferential statistics, which uses those properties to test hypotheses and draw conclusions. Descriptive statistics include mean (average),median and mode.\n",
    "\n",
    "1.Descriptive statistics mostly focus on the central tendency, variability, and distribution of sample data. Central tendency means the estimate of the characteristics, a typical element of a sample or population, and includes descriptive statistics such as mean, median, and mode.\n",
    "\n",
    "2.Inferential statistics are tools that statisticians use to draw conclusions about the characteristics of a population, drawn from the characteristics of a sample, and to decide how certain they can be of the reliability of those conclusions. Based on the sample size and distribution statisticians can calculate the probability that statistics, which measure the central tendency, variability, distribution, and relationships between characteristics within a data sample, provide an accurate picture of the corresponding parameters of the whole population from which the sample is drawn.\n",
    "\n",
    "Example : We use descriptive statistics to describe a situation, while we use inferential statistics to explain the probability of occurrence of an event."
   ]
  },
  {
   "cell_type": "markdown",
   "id": "bb4ea4bd-dd12-415b-9d8a-0c320b035ed6",
   "metadata": {},
   "source": [
    "## Q3.  What are the different types of data and how do they differ from each other? Provide an example of  each type of data. "
   ]
  },
  {
   "cell_type": "markdown",
   "id": "04432be6-63a7-4ccc-9573-dfeb77b34df8",
   "metadata": {},
   "source": [
    "Data can be defined as a collection of facts, such as numbers, words, measurements, observations, quantities etc.\n",
    "\n",
    "Types of Data : \n",
    "\n",
    "1.Qualitative data- it is a form of descriptive data. Example- She can write fast, He is tall.\n",
    "\n",
    "2.Quantitative data- it is in the form of numerical information. Example- A class has ten students.\n",
    "\n",
    "Types of quantitative data -> 1.Discrete data- it has a fixed value that can be counted\n",
    "\n",
    "2.Continuous data- it has no fixed value but has a range that can be measured.\n"
   ]
  },
  {
   "cell_type": "markdown",
   "id": "8a96f3fd-cc83-4d15-b400-5a0ca76040c9",
   "metadata": {},
   "source": [
    "## Q4. Categorise the following datasets with respect to quantitative and qualitative data types:\n",
    "## (i) Grading in exam: A+, A, B+, B, C+, C, D, E\n",
    "## (ii) Colour of mangoes: yellow, green, orange, red\n",
    "## (iii) Height data of a class: [178.9, 179, 179.5, 176, 177.2, 178.3, 175.8,...]\n",
    "## (iv) Number of mangoes exported by a farm: [500, 600, 478, 672, ...]"
   ]
  },
  {
   "cell_type": "markdown",
   "id": "0caa2777-26d2-463a-a1ac-039e01eb5cd1",
   "metadata": {},
   "source": [
    "(i) Grading in exam: A+, A, B+, B, C+, C, D, E -> Qualitative data\n",
    "\n",
    "(ii) Colour of mangoes: yellow, green, orange, red -> Qualitative data\n",
    "\n",
    "(iii) Height data of a class: [178.9, 179, 179.5, 176, 177.2, 178.3, 175.8,...] -> Quantitative data\n",
    "\n",
    "(iv) Number of mangoes exported by a farm: [500, 600, 478, 672, ...] -> Quantitative data"
   ]
  },
  {
   "cell_type": "markdown",
   "id": "8a52d3ef-d11a-4b4c-9835-fd4cde7b450c",
   "metadata": {},
   "source": [
    "## Q5. Explain the concept of levels of measurement and give an example of a variable for each level. "
   ]
  },
  {
   "cell_type": "markdown",
   "id": "4f7d9177-9043-42b5-96f0-2940c3c11112",
   "metadata": {},
   "source": [
    "Levels of measurement, also known as scales of measurement, refer to the ways in which variables can be classified based on the nature of the data they represent. There are four commonly recognized levels of measurement are : \n",
    "\n",
    "1. Nominal level of measurement: This level of measurement is used to classify data into categories that do not have any order or rank. The categories are simply used to label or identify items. Examples of variables at the nominal level of measurement include gender (male, female), eye color (brown, blue, green), and race (Caucasian, African American, Asian).\n",
    "\n",
    "2. Ordinal level of measurement: This level of measurement allows variables to be ranked or ordered based on some criterion or characteristic. However, the differences between the categories are not necessarily equal or measurable. Examples of variables at the ordinal level of measurement include education level (high school diploma, bachelor's degree, master's degree), socioeconomic status (low, middle, high), and grade in a course (A, B, C, D, F).\n",
    "\n",
    "3. Interval level of measurement: This level of measurement is similar to the ordinal level, but the differences between the categories are equal and measurable. There is no true zero point in interval data. Examples of variables at the interval level of measurement include temperature (Fahrenheit or Celsius), IQ scores, and dates (measured in years or days from a certain point).\n",
    "\n",
    "4. Ratio level of measurement: This level of measurement is the most precise and has a true zero point. Ratio variables can be ordered, and the differences between categories are both equal and meaningful. Examples of variables at the ratio level of measurement include height, weight, time, and income.\n",
    "\n",
    "Overall, understanding the level of measurement of a variable is important because it affects the type of statistical analysis that can be performed on the data. For instance, nominal and ordinal data may only be analyzed using non-parametric statistical tests, while interval and ratio data can be analyzed using both non-parametric and parametric statistical tests."
   ]
  },
  {
   "cell_type": "markdown",
   "id": "6f4a4055-94ed-47e6-b827-b38737c225b0",
   "metadata": {},
   "source": [
    "## Q6. Why is it important to understand the level of measurement when analyzing data? Provide an example to illustrate your answer."
   ]
  },
  {
   "cell_type": "markdown",
   "id": "741d8c92-2ac7-481a-b7c2-02d5698cf42e",
   "metadata": {},
   "source": [
    "Understanding the level of measurement is essential when analyzing data because it determines the type of statistical analysis that can be performed and the appropriate measures of central tendency and dispersion that can be used. Different levels of measurement have different properties, which affect the way data can be analyzed and interpreted.\n",
    "\n",
    "For example, if we have data on the favorite color of a group of people, we need to know the level of measurement of the variable to perform appropriate analysis. If the variable is measured on a nominal scale, we can only count the number of people who choose each color and calculate the percentage of people for each color. We cannot compute a mean or variance because nominal data have no natural ordering or hierarchy. On the other hand, if the variable is measured on an ordinal scale, we can rank the colors from most to least popular and compute the median or mode. However, we cannot assume that the intervals between ranks are equal, and we cannot compute a meaningful mean or variance.\n",
    "\n",
    "In contrast, if the variable is measured on an interval or ratio scale, we can assume equal intervals between values and compute a meaningful mean and variance. For example, if we have data on the age of a group of people, we can calculate the mean, median, and standard deviation, which provide more detailed information about the distribution of the data.\n",
    "\n",
    "In summary, understanding the level of measurement is crucial because it determines the appropriate statistical analysis and measures of central tendency and dispersion that can be used. It helps researchers avoid making incorrect assumptions about the properties of the data and make more accurate conclusions based on the analysis."
   ]
  },
  {
   "cell_type": "markdown",
   "id": "f34ade5f-406d-4b4a-8374-c962d9acdb96",
   "metadata": {},
   "source": [
    "## Q7. How nominal data type is different from ordinal data type."
   ]
  },
  {
   "cell_type": "markdown",
   "id": "f745d37f-bc4c-4a44-bc11-f6b3f0585c7a",
   "metadata": {},
   "source": [
    "Nominal and ordinal are two of the four levels of measurement in statistics.\n",
    "\n",
    "Nominal data is a type of categorical data in which data values represent categories that do not have any inherent order or ranking. For example, gender (male, female) or color (red, green, blue) are nominal variables. Nominal data can only be classified and counted.\n",
    "\n",
    "Ordinal data, on the other hand, represents categories that can be ranked in order or have a natural order. However, the distance between categories is not equal. For example, the ranking of the finishing positions in a race (1st, 2nd, 3rd) is an ordinal variable. Other examples of ordinal variables include education level (high school, college, graduate degree) or ratings (poor, fair, good, excellent).\n",
    "\n",
    "The key difference between nominal and ordinal data is that nominal data does not have any inherent order or ranking, whereas ordinal data has a natural order or ranking but no specific numerical value associated with it."
   ]
  },
  {
   "cell_type": "markdown",
   "id": "217ff029-4464-4d0e-a918-da82a117cc52",
   "metadata": {},
   "source": [
    "## Q8. Which type of plot can be used to display data in terms of range?"
   ]
  },
  {
   "cell_type": "markdown",
   "id": "16be489c-241a-4c46-af74-d452df61cc82",
   "metadata": {},
   "source": [
    "A box plot, also known as a box-and-whisker plot, is commonly used to display data in terms of range. It shows the distribution of the data by displaying the median, quartiles, and outliers of the dataset. The box represents the interquartile range (IQR), which is the range of the middle 50% of the data, while the whiskers extend to the minimum and maximum values within a certain range. Box plots are useful for comparing distributions between different groups or variables."
   ]
  },
  {
   "cell_type": "markdown",
   "id": "3736528b-8ead-4ddc-a0bb-7783592046b8",
   "metadata": {},
   "source": [
    "## Q9. Describe the difference between descriptive and inferential statistics. Give an example of each type of statistics and explain how they are used."
   ]
  },
  {
   "cell_type": "markdown",
   "id": "7fa76a65-e808-4166-abe2-3bbf28239bd5",
   "metadata": {},
   "source": [
    "Descriptive statistics and inferential statistics are two broad categories of statistical analysis methods used in data analysis.\n",
    "\n",
    "Descriptive statistics is the branch of statistics that deals with the summary and description of the characteristics of a set of data. It includes measures like mean, median, mode, standard deviation, range, and percentiles, which are used to describe and summarize data in a way that is easily understandable. For example, if we want to understand the average income of a particular community, we can calculate the mean income of that community using descriptive statistics.\n",
    "\n",
    "In contrast, inferential statistics is the branch of statistics that deals with making generalizations and predictions about a population based on a sample. It involves using sample data to make inferences or draw conclusions about a larger population. For example, if we want to know whether the average income of a particular community is significantly different from the average income of the entire population, we can use inferential statistics to conduct hypothesis testing and make conclusions about the population based on the sample data.\n",
    "\n",
    "To illustrate the difference between descriptive and inferential statistics, consider the following example. Suppose we want to study the average height of students in a school. Descriptive statistics can be used to calculate the mean, median, and range of the heights of the students in the school. On the other hand, inferential statistics can be used to make generalizations about the height of all students in the school, based on a sample of students. For instance, we can randomly select a sample of 100 students, calculate their average height, and use inferential statistics to make predictions about the average height of all students in the school."
   ]
  },
  {
   "cell_type": "markdown",
   "id": "f8c83b69-bc2e-4a0b-9d52-97fb61c3e5a6",
   "metadata": {},
   "source": [
    "## Q10. What are some common measures of central tendency and variability used in statistics? Explain how each measure can be used to describe a dataset."
   ]
  },
  {
   "cell_type": "markdown",
   "id": "9fb693d0-b084-4e1a-b6c3-b6343217e0c0",
   "metadata": {},
   "source": [
    "Measures of central tendency and variability are commonly used in statistics to describe a dataset.\n",
    "\n",
    "Measures of central tendency:\n",
    "\n",
    "1.Mean: The mean is the sum of all the values in a dataset divided by the number of values in the dataset. It is often used to describe the average value of a dataset. For example, the mean salary of employees in a company can be used to describe the average salary of all employees.\n",
    "\n",
    "2.Median: The median is the middle value of a dataset when it is ordered from smallest to largest. It is often used to describe the central value of a dataset when there are outliers or when the distribution is not symmetrical. For example, the median income of a neighborhood can be used to describe the central income of the residents.\n",
    "\n",
    "3.Mode: The mode is the value that appears most frequently in a dataset. It is often used to describe the most common value of a dataset. For example, the mode of transportation used by commuters in a city can be used to describe the most common method of transportation.\n",
    "\n",
    "Measures of variability:\n",
    "\n",
    "1.Range: The range is the difference between the largest and smallest values in a dataset. It is often used to describe the spread of the data. For example, the range of ages of students in a classroom can be used to describe how spread out the ages are.\n",
    "\n",
    "2.Variance: The variance is the average of the squared differences from the mean. It is often used to describe how spread out the data is from the mean. For example, the variance of test scores in a class can be used to describe how spread out the scores are from the average score.\n",
    "\n",
    "3.Standard deviation: The standard deviation is the square root of the variance. It is often used to describe how spread out the data is from the mean in the same units as the data. For example, the standard deviation of the heights of students in a class can be used to describe how spread out the heights are from the average height, in units of centimeters.\n",
    "\n",
    "These measures of central tendency and variability can be used together to provide a more complete description of a dataset. For example, the mean and standard deviation can be used to describe the average value and the spread of the data, while the median and range can be used to describe the central value and the range of the data."
   ]
  },
  {
   "cell_type": "code",
   "execution_count": null,
   "id": "a4ea32e0-e640-4333-9134-6d498645b294",
   "metadata": {},
   "outputs": [],
   "source": []
  }
 ],
 "metadata": {
  "kernelspec": {
   "display_name": "Python 3 (ipykernel)",
   "language": "python",
   "name": "python3"
  },
  "language_info": {
   "codemirror_mode": {
    "name": "ipython",
    "version": 3
   },
   "file_extension": ".py",
   "mimetype": "text/x-python",
   "name": "python",
   "nbconvert_exporter": "python",
   "pygments_lexer": "ipython3",
   "version": "3.10.8"
  }
 },
 "nbformat": 4,
 "nbformat_minor": 5
}
